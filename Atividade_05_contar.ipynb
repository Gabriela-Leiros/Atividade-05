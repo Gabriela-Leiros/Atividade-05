{
  "nbformat": 4,
  "nbformat_minor": 0,
  "metadata": {
    "colab": {
      "provenance": [],
      "include_colab_link": true
    },
    "kernelspec": {
      "name": "python3",
      "display_name": "Python 3"
    },
    "language_info": {
      "name": "python"
    }
  },
  "cells": [
    {
      "cell_type": "markdown",
      "metadata": {
        "id": "view-in-github",
        "colab_type": "text"
      },
      "source": [
        "<a href=\"https://colab.research.google.com/github/Gabriela-Leiros/Atividade-05/blob/main/Atividade_05_contar.ipynb\" target=\"_parent\"><img src=\"https://colab.research.google.com/assets/colab-badge.svg\" alt=\"Open In Colab\"/></a>"
      ]
    },
    {
      "cell_type": "code",
      "execution_count": 16,
      "metadata": {
        "colab": {
          "base_uri": "https://localhost:8080/"
        },
        "id": "iEMqFVrqOaTR",
        "outputId": "40c98a12-619a-4bdd-a37d-044e73291fe3"
      },
      "outputs": [
        {
          "output_type": "stream",
          "name": "stdout",
          "text": [
            "caractere: a \n",
            "arquivo: mala sem alça\n",
            "o caractere 'a ' aparece 1 vezes no arquivo.\n",
            "{'m': 2, 'a': 4, 'l': 2, ' ': 2, 's': 1, 'e': 1, 'ç': 1}\n"
          ]
        }
      ],
      "source": [
        "#Escreva uma função que conte o número de ocorrências de cada caractere em uma string e retorne um dicionário com os resultados.\n",
        "\n",
        "def contar_caractere(arquivo, caractere):\n",
        "    contagem = arquivo.count(caractere)\n",
        "    return contagem\n",
        "\n",
        "caractere_input = input('caractere: ')\n",
        "texto_input = input('arquivo: ')\n",
        "\n",
        "contagem = contar_caractere(texto_input, caractere_input)\n",
        "\n",
        "print(f\"o caractere '{caractere_input}' aparece {contagem} vezes no arquivo.\")\n",
        "\n",
        "caractere = {}\n",
        "for i in texto_input:\n",
        "  if i in caractere:\n",
        "    caractere[i] += 1\n",
        "  else:\n",
        "    caractere[i] = 1\n",
        "\n",
        "print(caractere)\n",
        "\n",
        "pass"
      ]
    }
  ]
}