{
  "nbformat": 4,
  "nbformat_minor": 0,
  "metadata": {
    "colab": {
      "provenance": [],
      "include_colab_link": true
    },
    "kernelspec": {
      "name": "python3",
      "display_name": "Python 3"
    },
    "language_info": {
      "name": "python"
    }
  },
  "cells": [
    {
      "cell_type": "markdown",
      "metadata": {
        "id": "view-in-github",
        "colab_type": "text"
      },
      "source": [
        "<a href=\"https://colab.research.google.com/github/Gabriela-Leiros/Atividade-05/blob/main/Atividade_05_palindromo_.ipynb\" target=\"_parent\"><img src=\"https://colab.research.google.com/assets/colab-badge.svg\" alt=\"Open In Colab\"/></a>"
      ]
    },
    {
      "cell_type": "code",
      "execution_count": 1,
      "metadata": {
        "id": "JYwxqj0Ny1oP"
      },
      "outputs": [],
      "source": [
        "#Escreva uma função que verifique se uma string é um palíndromo, ignorando espaços e diferenças entre maiúsculas e minúsculas.\n",
        "\n",
        "def eh_palindromo(s):\n",
        "\n",
        "  s = s.replace(' ', '').lower()\n",
        "  return s == s[::-1]\n",
        "\n",
        "\n",
        "  if  s == s[::-1]:\n",
        "    return True\n",
        "  else:\n",
        "    return False\n",
        "\n",
        "\n",
        "\n",
        "pass\n"
      ]
    }
  ]
}