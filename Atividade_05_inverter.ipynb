{
  "nbformat": 4,
  "nbformat_minor": 0,
  "metadata": {
    "colab": {
      "provenance": [],
      "authorship_tag": "ABX9TyPVkH3rvq2vKLGZ7DfkJmjf",
      "include_colab_link": true
    },
    "kernelspec": {
      "name": "python3",
      "display_name": "Python 3"
    },
    "language_info": {
      "name": "python"
    }
  },
  "cells": [
    {
      "cell_type": "markdown",
      "metadata": {
        "id": "view-in-github",
        "colab_type": "text"
      },
      "source": [
        "<a href=\"https://colab.research.google.com/github/Gabriela-Leiros/Atividade-05/blob/main/Atividade_05_inverter.ipynb\" target=\"_parent\"><img src=\"https://colab.research.google.com/assets/colab-badge.svg\" alt=\"Open In Colab\"/></a>"
      ]
    },
    {
      "cell_type": "code",
      "execution_count": 23,
      "metadata": {
        "colab": {
          "base_uri": "https://localhost:8080/"
        },
        "id": "jvtNAaVv7Zqv",
        "outputId": "4efaaeb9-553c-4960-e250-0d8767a7690b"
      },
      "outputs": [
        {
          "output_type": "stream",
          "name": "stdout",
          "text": [
            "Digite uma palavra: luiz miguel\n",
            "A palavra é: leugim ziul\n"
          ]
        }
      ],
      "source": [
        "#Escreva uma função que inverta uma string.\n",
        "\n",
        "def inverter_string(s):\n",
        "  string_invertida = string_original[::-1]\n",
        "  print(\"A palavra é:\", string_invertida)\n",
        "  return string_invertida\n",
        "\n",
        "string_original= input(\"Digite uma palavra: \")\n",
        "inverter_string(string_original)\n",
        "\n",
        "pass"
      ]
    }
  ]
}