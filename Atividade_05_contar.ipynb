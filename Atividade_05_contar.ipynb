{
  "nbformat": 4,
  "nbformat_minor": 0,
  "metadata": {
    "colab": {
      "provenance": [],
      "authorship_tag": "ABX9TyMMKIXj6PRhVoGZ8Ezh4gIB",
      "include_colab_link": true
    },
    "kernelspec": {
      "name": "python3",
      "display_name": "Python 3"
    },
    "language_info": {
      "name": "python"
    }
  },
  "cells": [
    {
      "cell_type": "markdown",
      "metadata": {
        "id": "view-in-github",
        "colab_type": "text"
      },
      "source": [
        "<a href=\"https://colab.research.google.com/github/Gabriela-Leiros/Atividade-05/blob/main/Atividade_05_contar.ipynb\" target=\"_parent\"><img src=\"https://colab.research.google.com/assets/colab-badge.svg\" alt=\"Open In Colab\"/></a>"
      ]
    },
    {
      "cell_type": "code",
      "execution_count": 8,
      "metadata": {
        "colab": {
          "base_uri": "https://localhost:8080/",
          "height": 283
        },
        "id": "iEMqFVrqOaTR",
        "outputId": "187f0f15-d436-4e27-b9db-ebb6b05afece"
      },
      "outputs": [
        {
          "output_type": "stream",
          "name": "stdout",
          "text": [
            "Drive already mounted at /content/drive; to attempt to forcibly remount, call drive.mount(\"/content/drive\", force_remount=True).\n",
            "Insira um caractere: a\n",
            "o caractere 'a' aparece 132 vezes no arquivo.\n"
          ]
        },
        {
          "output_type": "error",
          "ename": "NameError",
          "evalue": "name 'texto' is not defined",
          "traceback": [
            "\u001b[0;31m---------------------------------------------------------------------------\u001b[0m",
            "\u001b[0;31mNameError\u001b[0m                                 Traceback (most recent call last)",
            "\u001b[0;32m<ipython-input-8-78c3fad0db17>\u001b[0m in \u001b[0;36m<cell line: 19>\u001b[0;34m()\u001b[0m\n\u001b[1;32m     17\u001b[0m \u001b[0;34m\u001b[0m\u001b[0m\n\u001b[1;32m     18\u001b[0m \u001b[0mcaractere\u001b[0m \u001b[0;34m=\u001b[0m \u001b[0;34m{\u001b[0m\u001b[0;34m}\u001b[0m\u001b[0;34m\u001b[0m\u001b[0;34m\u001b[0m\u001b[0m\n\u001b[0;32m---> 19\u001b[0;31m \u001b[0;32mfor\u001b[0m \u001b[0mi\u001b[0m \u001b[0;32min\u001b[0m \u001b[0mtexto\u001b[0m\u001b[0;34m:\u001b[0m\u001b[0;34m\u001b[0m\u001b[0;34m\u001b[0m\u001b[0m\n\u001b[0m\u001b[1;32m     20\u001b[0m   \u001b[0;32mif\u001b[0m \u001b[0mi\u001b[0m \u001b[0;32min\u001b[0m \u001b[0mcaractere\u001b[0m\u001b[0;34m:\u001b[0m\u001b[0;34m\u001b[0m\u001b[0;34m\u001b[0m\u001b[0m\n\u001b[1;32m     21\u001b[0m     \u001b[0mcaractere\u001b[0m\u001b[0;34m[\u001b[0m\u001b[0mi\u001b[0m\u001b[0;34m]\u001b[0m \u001b[0;34m+=\u001b[0m \u001b[0;36m1\u001b[0m\u001b[0;34m\u001b[0m\u001b[0;34m\u001b[0m\u001b[0m\n",
            "\u001b[0;31mNameError\u001b[0m: name 'texto' is not defined"
          ]
        }
      ],
      "source": [
        "#Escreva uma função que conte o número de ocorrências de cada caractere em uma string e retorne um dicionário com os resultados.\n",
        "from google.colab import drive\n",
        "drive.mount('/content/drive')\n",
        "\n",
        "def contar_caractere(arquivo, caractere):\n",
        "  with open(arquivo, 'r', encoding='utf-8') as file:\n",
        "    texto = file.read()\n",
        "    contagem = texto.count(caractere)\n",
        "    return contagem\n",
        "\n",
        "caractere_input = input('Insira um caractere: ')\n",
        "arquivo_input = '/content/drive/MyDrive/Colab Notebooks/2024.1Algoritmos_e_estruturas_de_dados/Atividade_05_palindromo_.ipynb'\n",
        "\n",
        "contagem = contar_caractere(arquivo_input, caractere_input)\n",
        "\n",
        "print(f\"o caractere '{caractere_input}' aparece {contagem} vezes no arquivo.\")\n",
        "\n",
        "caractere = {}\n",
        "for i in texto:\n",
        "  if i in caractere:\n",
        "    caractere[i] += 1\n",
        "  else:\n",
        "    caractere[i] = 1\n",
        "return caractere\n",
        "\n",
        "print(caractere)\n",
        "\n",
        "#pass"
      ]
    }
  ]
}