{
  "nbformat": 4,
  "nbformat_minor": 0,
  "metadata": {
    "colab": {
      "provenance": [],
      "authorship_tag": "ABX9TyPectg9u1Pq43ceVam4TJPA",
      "include_colab_link": true
    },
    "kernelspec": {
      "name": "python3",
      "display_name": "Python 3"
    },
    "language_info": {
      "name": "python"
    }
  },
  "cells": [
    {
      "cell_type": "markdown",
      "metadata": {
        "id": "view-in-github",
        "colab_type": "text"
      },
      "source": [
        "<a href=\"https://colab.research.google.com/github/Gabriela-Leiros/Atividade-05/blob/main/Atividade_05_palindromo_.ipynb\" target=\"_parent\"><img src=\"https://colab.research.google.com/assets/colab-badge.svg\" alt=\"Open In Colab\"/></a>"
      ]
    },
    {
      "cell_type": "code",
      "execution_count": 1,
      "metadata": {
        "colab": {
          "base_uri": "https://localhost:8080/"
        },
        "outputId": "4a46bdc7-5660-4306-ae06-09af3b50a09f",
        "id": "JYwxqj0Ny1oP"
      },
      "outputs": [
        {
          "output_type": "stream",
          "name": "stdout",
          "text": [
            "Insira um nome: arara\n",
            "True\n"
          ]
        }
      ],
      "source": [
        "#Escreva uma função que verifique se uma string é um palíndromo, ignorando espaços e diferenças entre maiúsculas e minúsculas.\n",
        "\n",
        "def eh_palindromo(s):\n",
        "\n",
        "  s = s.replace(' ', '').lower()\n",
        "  return s == s[::-1]\n",
        "\n",
        "\n",
        "  if  s == s[::-1]:\n",
        "    return True\n",
        "  else:\n",
        "    return False\n",
        "\n",
        "print(eh_palindromo(input('Insira um nome: ')))\n",
        "\n",
        "pass\n"
      ]
    },
    {
      "cell_type": "code",
      "execution_count": null,
      "metadata": {
        "id": "tVfkfxhqnGlM",
        "colab": {
          "base_uri": "https://localhost:8080/"
        },
        "outputId": "bcb0e3cb-85dc-4cf3-e989-11f6050d4b41"
      },
      "outputs": [
        {
          "output_type": "stream",
          "name": "stdout",
          "text": [
            "Insira um nome: a aranha arranha a rã\n",
            "False\n"
          ]
        }
      ],
      "source": [
        "#Escreva uma função que verifique se uma string é um palíndromo, ignorando espaços e diferenças entre maiúsculas e minúsculas.\n",
        "\n",
        "def eh_palindromo(s):\n",
        "\n",
        "  s = s.replace(' ', '').lower()\n",
        "  return s == s[::-1]\n",
        "\n",
        "\n",
        "  if  s == s[::-1]:\n",
        "    return True\n",
        "  else:\n",
        "    return False\n",
        "\n",
        "print(eh_palindromo(input('Insira um nome: ')))\n",
        "\n",
        "pass\n"
      ]
    },
    {
      "cell_type": "code",
      "execution_count": 2,
      "metadata": {
        "colab": {
          "base_uri": "https://localhost:8080/"
        },
        "outputId": "0749acdf-e320-479a-8e64-87f7ab218dbc",
        "id": "RR5xenNxy38S"
      },
      "outputs": [
        {
          "output_type": "stream",
          "name": "stdout",
          "text": [
            "Insira um nome: ame o poema\n",
            "True\n"
          ]
        }
      ],
      "source": [
        "#Escreva uma função que verifique se uma string é um palíndromo, ignorando espaços e diferenças entre maiúsculas e minúsculas.\n",
        "\n",
        "def eh_palindromo(s):\n",
        "\n",
        "  s = s.replace(' ', '').lower()\n",
        "  return s == s[::-1]\n",
        "\n",
        "\n",
        "  if  s == s[::-1]:\n",
        "    return True\n",
        "  else:\n",
        "    return False\n",
        "\n",
        "print(eh_palindromo(input('Insira um nome: ')))\n",
        "\n",
        "pass\n"
      ]
    }
  ]
}