{
  "nbformat": 4,
  "nbformat_minor": 0,
  "metadata": {
    "colab": {
      "provenance": [],
      "authorship_tag": "ABX9TyP0MKI7swDyL0Hu8RXEs0rS",
      "include_colab_link": true
    },
    "kernelspec": {
      "name": "python3",
      "display_name": "Python 3"
    },
    "language_info": {
      "name": "python"
    }
  },
  "cells": [
    {
      "cell_type": "markdown",
      "metadata": {
        "id": "view-in-github",
        "colab_type": "text"
      },
      "source": [
        "<a href=\"https://colab.research.google.com/github/Gabriela-Leiros/Atividade-05/blob/main/Atividade_05_converter.ipynb\" target=\"_parent\"><img src=\"https://colab.research.google.com/assets/colab-badge.svg\" alt=\"Open In Colab\"/></a>"
      ]
    },
    {
      "cell_type": "code",
      "source": [
        "from os import close\n",
        "#Escreva uma função que leia o conteúdo de um arquivo de texto, converta todo o texto para maiúsculas e salve o resultado em um novo arquivo.\n",
        "def converter_para_maiusculas(arquivo_entrada, arquivo_saida):\n",
        "  with open(arquivo_entrada, 'r') as arquivo_entrada:\n",
        "    conteudo = arquivo_entrada.read()\n",
        "    conteudo_maiusculas = conteudo.upper()\n",
        "\n",
        "  with open(arquivo_saida, 'w') as arquivo_saida:\n",
        "    arquivo_saida.write(conteudo_maiusculas)\n",
        "\n",
        "\n",
        "\n",
        "pass"
      ],
      "metadata": {
        "id": "laibY3ahJn52"
      },
      "execution_count": 46,
      "outputs": []
    }
  ]
}