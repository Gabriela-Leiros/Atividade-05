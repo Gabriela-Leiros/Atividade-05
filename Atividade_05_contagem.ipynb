{
  "nbformat": 4,
  "nbformat_minor": 0,
  "metadata": {
    "colab": {
      "provenance": [],
      "include_colab_link": true
    },
    "kernelspec": {
      "name": "python3",
      "display_name": "Python 3"
    },
    "language_info": {
      "name": "python"
    }
  },
  "cells": [
    {
      "cell_type": "markdown",
      "metadata": {
        "id": "view-in-github",
        "colab_type": "text"
      },
      "source": [
        "<a href=\"https://colab.research.google.com/github/Gabriela-Leiros/Atividade-05/blob/main/Atividade_05_contagem.ipynb\" target=\"_parent\"><img src=\"https://colab.research.google.com/assets/colab-badge.svg\" alt=\"Open In Colab\"/></a>"
      ]
    },
    {
      "cell_type": "code",
      "source": [
        "#Escreva uma função que conte o número de ocorrências de uma palavra específica em um arquivo de texto.\n",
        "\n",
        "\n",
        "def contar_palavra(arquivo, palavra):\n",
        "  with open(arquivo, 'r') as file:\n",
        "      texto = file.read()\n",
        "      contagem = texto.count(palavra)\n",
        "  return contagem\n",
        "\n",
        "  arquivo_input = 'path/to/your/file.txt'\n",
        "  palavra_input = 'palavra'\n",
        "\n",
        "  contagem = contar_palavra(arquivo_input, palavra_input)\n",
        "\n",
        "  print(f\"A palavra '{palavra_input}' aparece {contagem} vezes no arquivo.\")\n",
        "\n",
        "  pass\n"
      ],
      "metadata": {
        "id": "UpMy2PDp6WyO"
      },
      "execution_count": 11,
      "outputs": []
    }
  ]
}