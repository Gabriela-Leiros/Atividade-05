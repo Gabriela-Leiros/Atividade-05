{
  "nbformat": 4,
  "nbformat_minor": 0,
  "metadata": {
    "colab": {
      "provenance": [],
      "include_colab_link": true
    },
    "kernelspec": {
      "name": "python3",
      "display_name": "Python 3"
    },
    "language_info": {
      "name": "python"
    }
  },
  "cells": [
    {
      "cell_type": "markdown",
      "metadata": {
        "id": "view-in-github",
        "colab_type": "text"
      },
      "source": [
        "<a href=\"https://colab.research.google.com/github/Gabriela-Leiros/Atividade-05/blob/main/Atividade_05_inverter.ipynb\" target=\"_parent\"><img src=\"https://colab.research.google.com/assets/colab-badge.svg\" alt=\"Open In Colab\"/></a>"
      ]
    },
    {
      "cell_type": "code",
      "execution_count": 2,
      "metadata": {
        "id": "jvtNAaVv7Zqv"
      },
      "outputs": [],
      "source": [
        "#Escreva uma função que inverta uma string.\n",
        "\n",
        "def inverter_string(s):\n",
        "  string_invertida = string_original[::-1]\n",
        "  print(\"A palavra é:\", string_invertida)\n",
        "  return string_invertida\n",
        "\n",
        "\n",
        "\n",
        "\n",
        "pass"
      ]
    }
  ]
}