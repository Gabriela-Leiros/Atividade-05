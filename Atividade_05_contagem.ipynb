{
  "nbformat": 4,
  "nbformat_minor": 0,
  "metadata": {
    "colab": {
      "provenance": [],
      "mount_file_id": "1EYFoY7RVbpDGwxa6LHI0AW9k7VR06eSI",
      "authorship_tag": "ABX9TyO2fVt4FS+TaiwVmlfRH6gC",
      "include_colab_link": true
    },
    "kernelspec": {
      "name": "python3",
      "display_name": "Python 3"
    },
    "language_info": {
      "name": "python"
    }
  },
  "cells": [
    {
      "cell_type": "markdown",
      "metadata": {
        "id": "view-in-github",
        "colab_type": "text"
      },
      "source": [
        "<a href=\"https://colab.research.google.com/github/Gabriela-Leiros/Atividade-05/blob/main/Atividade_05_contagem.ipynb\" target=\"_parent\"><img src=\"https://colab.research.google.com/assets/colab-badge.svg\" alt=\"Open In Colab\"/></a>"
      ]
    },
    {
      "cell_type": "code",
      "source": [
        "#Escreva uma função que conte o número de ocorrências de uma palavra específica em um arquivo de texto.\n",
        "from google.colab import drive\n",
        "drive.mount('/content/drive')\n",
        "\n",
        "def contar_palavra(arquivo, palavra):\n",
        "  with open(arquivo, 'r', encoding='utf-8') as file:\n",
        "    texto = file.read()\n",
        "    contagem = texto.count(palavra)\n",
        "    return contagem\n",
        "\n",
        "palavra_input = input('Insira uma palavra: ')\n",
        "arquivo_input = '/content/drive/MyDrive/Colab Notebooks/2024.1Algoritmos_e_estruturas_de_dados/Atividade_05_palindromo_.ipynb'\n",
        "\n",
        "contagem = contar_palavra(arquivo_input, palavra_input)\n",
        "\n",
        "print(f\"A palavra '{palavra_input}' aparece {contagem} vezes no arquivo.\")\n",
        "\n",
        "pass\n"
      ],
      "metadata": {
        "colab": {
          "base_uri": "https://localhost:8080/"
        },
        "id": "UpMy2PDp6WyO",
        "outputId": "aabafd93-8df3-4ef8-996d-e2bd55b07d8d"
      },
      "execution_count": 5,
      "outputs": [
        {
          "output_type": "stream",
          "name": "stdout",
          "text": [
            "Mounted at /content/drive\n",
            "Insira uma palavra: palindromo\n",
            "A palavra 'palindromo' aparece 6 vezes no arquivo.\n"
          ]
        }
      ]
    }
  ]
}